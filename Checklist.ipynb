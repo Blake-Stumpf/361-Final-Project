{
 "cells": [
  {
   "cell_type": "markdown",
   "id": "bd0bf3bd",
   "metadata": {},
   "source": [
    "##Things to work on:\n",
    "\n",
    "[ ]Figure out pygame in C - sdl?\n",
    "\n",
    "[ ]set up screen -Sam\n",
    "\n",
    "[ ]initial conditions/colors -Sam\n",
    "\n",
    "[ ]make grid\n",
    "\n",
    "[ ]collision function -Sam\n",
    "\n",
    "[ ]paddle movement -Kaden\n",
    "\n",
    "[ ]ball movement -Kaden\n",
    "\n",
    "[ ]paddle collision\n",
    "\n",
    "[ ]exit checks\n",
    "\n",
    "[ ]hardware interfacing -Blake\n"
   ]
  },
  {
   "cell_type": "code",
   "execution_count": null,
   "id": "5ddecf39",
   "metadata": {},
   "outputs": [],
   "source": []
  }
 ],
 "metadata": {
  "kernelspec": {
   "display_name": "Python 3 (ipykernel)",
   "language": "python",
   "name": "python3"
  },
  "language_info": {
   "codemirror_mode": {
    "name": "ipython",
    "version": 3
   },
   "file_extension": ".py",
   "mimetype": "text/x-python",
   "name": "python",
   "nbconvert_exporter": "python",
   "pygments_lexer": "ipython3",
   "version": "3.11.0"
  }
 },
 "nbformat": 4,
 "nbformat_minor": 5
}
